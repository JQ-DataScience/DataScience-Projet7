{
 "cells": [
  {
   "cell_type": "code",
   "execution_count": null,
   "id": "08f319cb",
   "metadata": {},
   "outputs": [],
   "source": [
    "# Préparation de l'environnement et modules"
   ]
  },
  {
   "cell_type": "code",
   "execution_count": null,
   "id": "73046d7e",
   "metadata": {},
   "outputs": [],
   "source": [
    "import pandas as pd\n",
    "import numpy as np\n",
    "import matplotlib.pyplot as plt\n",
    "import missingno as msno\n",
    "import seaborn as sns; sns.set_theme()"
   ]
  },
  {
   "cell_type": "code",
   "execution_count": null,
   "id": "fc465417",
   "metadata": {},
   "outputs": [],
   "source": [
    "# Importation des datasets\n",
    "\n",
    "\n",
    "df_1_application_train= pd.read_csv('Projet+Mise+en+prod+-+home-credit-default-risk/application_train.csv')\n",
    "df_2_application_test= pd.read_csv('Projet+Mise+en+prod+-+home-credit-default-risk/application_test.csv')\n",
    "df_3_bureau = pd.read_csv('Projet+Mise+en+prod+-+home-credit-default-risk/bureau.csv')\n",
    "df_4_bureau_balance=pd.read_csv('Projet+Mise+en+prod+-+home-credit-default-risk/bureau_balance.csv')\n",
    "df_5_credit_card_balance=pd.read_csv('Projet+Mise+en+prod+-+home-credit-default-risk/credit_card_balance.csv')\n",
    "#df_6_HomeCredit_columns_description= pd.read_csv('Projet+Mise+en+prod+-+home-credit-default-risk/HomeCredit_columns_description.csv')\n",
    "df_7_installments_payments=pd.read_csv('Projet+Mise+en+prod+-+home-credit-default-risk/installments_payments.csv')\n",
    "df_8_POS_CASH_balance=pd.read_csv('Projet+Mise+en+prod+-+home-credit-default-risk/POS_CASH_balance.csv')\n",
    "df_9_previous_application=pd.read_csv('Projet+Mise+en+prod+-+home-credit-default-risk/previous_application.csv')\n",
    "df_10_sample_submission=pd.read_csv('Projet+Mise+en+prod+-+home-credit-default-risk/sample_submission.csv')"
   ]
  },
  {
   "cell_type": "markdown",
   "id": "ae8b294c",
   "metadata": {},
   "source": [
    "# I - Découverte du dataset"
   ]
  },
  {
   "cell_type": "code",
   "execution_count": null,
   "id": "1575ff85",
   "metadata": {},
   "outputs": [],
   "source": []
  },
  {
   "cell_type": "code",
   "execution_count": null,
   "id": "ecdbbb8e",
   "metadata": {},
   "outputs": [],
   "source": [
    "pd.set_option('display.max_row', 200)\n",
    "pd.set_option('display.max_column', 122)"
   ]
  },
  {
   "cell_type": "code",
   "execution_count": null,
   "id": "bc365878",
   "metadata": {},
   "outputs": [],
   "source": [
    "df_1_application_train"
   ]
  },
  {
   "cell_type": "code",
   "execution_count": null,
   "id": "6f5f0dc8",
   "metadata": {},
   "outputs": [],
   "source": [
    "msno.matrix(df_1_application_train)"
   ]
  },
  {
   "cell_type": "code",
   "execution_count": null,
   "id": "faa4f67f",
   "metadata": {},
   "outputs": [],
   "source": [
    "df_2_application_test"
   ]
  },
  {
   "cell_type": "code",
   "execution_count": null,
   "id": "17e18f91",
   "metadata": {},
   "outputs": [],
   "source": [
    "msno.matrix(df_2_application_test)"
   ]
  },
  {
   "cell_type": "code",
   "execution_count": null,
   "id": "14b42180",
   "metadata": {},
   "outputs": [],
   "source": [
    "df_3_bureau"
   ]
  },
  {
   "cell_type": "code",
   "execution_count": null,
   "id": "65e560be",
   "metadata": {},
   "outputs": [],
   "source": [
    "msno.matrix(df_3_bureau)"
   ]
  },
  {
   "cell_type": "code",
   "execution_count": null,
   "id": "e61f0a6d",
   "metadata": {},
   "outputs": [],
   "source": [
    "df_4_bureau_balance"
   ]
  },
  {
   "cell_type": "code",
   "execution_count": null,
   "id": "88dd953f",
   "metadata": {},
   "outputs": [],
   "source": [
    "msno.matrix(df_4_bureau_balance)"
   ]
  },
  {
   "cell_type": "code",
   "execution_count": null,
   "id": "d74ffaef",
   "metadata": {},
   "outputs": [],
   "source": [
    "df_5_credit_card_balance"
   ]
  },
  {
   "cell_type": "code",
   "execution_count": null,
   "id": "5f2d57cb",
   "metadata": {},
   "outputs": [],
   "source": [
    "msno.matrix(df_5_credit_card_balance)"
   ]
  },
  {
   "cell_type": "code",
   "execution_count": null,
   "id": "0bfbba1f",
   "metadata": {},
   "outputs": [],
   "source": [
    "df_7_installments_payments"
   ]
  },
  {
   "cell_type": "code",
   "execution_count": null,
   "id": "2e0da92e",
   "metadata": {},
   "outputs": [],
   "source": [
    "msno.matrix(df_7_installments_payments)"
   ]
  },
  {
   "cell_type": "code",
   "execution_count": null,
   "id": "ab65fbad",
   "metadata": {},
   "outputs": [],
   "source": [
    "df_8_POS_CASH_balance"
   ]
  },
  {
   "cell_type": "code",
   "execution_count": null,
   "id": "0420d861",
   "metadata": {},
   "outputs": [],
   "source": [
    "msno.matrix(df_8_POS_CASH_balance)"
   ]
  },
  {
   "cell_type": "code",
   "execution_count": null,
   "id": "427f7636",
   "metadata": {},
   "outputs": [],
   "source": [
    "df_9_previous_application"
   ]
  },
  {
   "cell_type": "code",
   "execution_count": null,
   "id": "39e9ef04",
   "metadata": {},
   "outputs": [],
   "source": [
    "msno.matrix(df_9_previous_application)"
   ]
  },
  {
   "cell_type": "code",
   "execution_count": null,
   "id": "c4d4f7f5",
   "metadata": {},
   "outputs": [],
   "source": [
    "df_10_sample_submission"
   ]
  },
  {
   "cell_type": "code",
   "execution_count": null,
   "id": "9dc06bce",
   "metadata": {},
   "outputs": [],
   "source": [
    "msno.matrix(df_10_sample_submission)"
   ]
  },
  {
   "cell_type": "code",
   "execution_count": null,
   "id": "0e9b2aa5",
   "metadata": {},
   "outputs": [],
   "source": [
    "# Collections for each dataset\n",
    "datasets = [df_1_application_train,df_2_application_test,df_3_bureau,df_4_bureau_balance,df_5_credit_card_balance,df_7_installments_payments,df_8_POS_CASH_balance,df_9_previous_application,df_10_sample_submission\n",
    "           ]\n",
    "names = [\n",
    "\n",
    "'df_1_application_train',\n",
    "'df_2_application_test',\n",
    "'df_3_bureau',\n",
    "'df_4_bureau_balance',\n",
    "'df_5_credit_card_balance',\n",
    "'df_7_installments_payments',\n",
    "'df_8_POS_CASH_balance',\n",
    "'df_9_previous_application',\n",
    "'df_10_sample_submission' ]\n",
    "\n",
    "# Creating a DataFrame with useful information about all datasets\n",
    "data_info = pd.DataFrame({})\n",
    "data_info['dataset'] = names\n",
    "data_info['n_rows'] = [df.shape[0] for df in datasets]\n",
    "data_info['n_cols'] = [df.shape[1] for df in datasets]\n",
    "data_info['null_amount'] = [df.isnull().sum().sum() for df in datasets]\n",
    "data_info['qty_null_columns'] = [len([col for col, null in df.isnull().sum().items() if null > 0]) for df in datasets]\n",
    "data_info['null_columns'] = [', '.join([col for col, null in df.isnull().sum().items() if null > 0]) for df in datasets]\n",
    "\n",
    "data_info.style.background_gradient()"
   ]
  },
  {
   "cell_type": "markdown",
   "id": "7044401e",
   "metadata": {},
   "source": [
    "# SCHEMA"
   ]
  },
  {
   "attachments": {
    "image.png": {
     "image/png": "[encoded data removed]"
    }
   },
   "cell_type": "markdown",
   "id": "673b3efe",
   "metadata": {},
   "source": [
    "![image.png](attachment:image.png)"
   ]
  },
  {
   "cell_type": "markdown",
   "id": "d3ee4050",
   "metadata": {},
   "source": [
    "# Analyse exploratoire\n"
   ]
  },
  {
   "cell_type": "code",
   "execution_count": null,
   "id": "fc46446e",
   "metadata": {},
   "outputs": [],
   "source": [
    "data = df_1_application_train"
   ]
  },
  {
   "cell_type": "code",
   "execution_count": null,
   "id": "1522d24b",
   "metadata": {},
   "outputs": [],
   "source": [
    "data"
   ]
  },
  {
   "cell_type": "markdown",
   "id": "90c361d4",
   "metadata": {},
   "source": [
    "# Inspect for duplicates"
   ]
  },
  {
   "cell_type": "code",
   "execution_count": null,
   "id": "13bcadf6",
   "metadata": {},
   "outputs": [],
   "source": [
    "data.duplicated().sum()"
   ]
  },
  {
   "cell_type": "markdown",
   "id": "0899fc29",
   "metadata": {},
   "source": [
    "# Inspect for NAN"
   ]
  },
  {
   "cell_type": "code",
   "execution_count": null,
   "id": "5b9a8cb2",
   "metadata": {},
   "outputs": [],
   "source": [
    "data.duplicated().sum()"
   ]
  },
  {
   "cell_type": "markdown",
   "id": "ba8877b4",
   "metadata": {},
   "source": [
    "# Look for any unreal value and transform it (IF needed)\n",
    "Regarding to the categorical variables, I'll Investigate for any unreal data like -unkown- or -missing- or any value give me the intuiton that this value should be NAN"
   ]
  },
  {
   "cell_type": "code",
   "execution_count": null,
   "id": "f9556a5b",
   "metadata": {},
   "outputs": [],
   "source": [
    "for i in data:\n",
    "    if data[i].dtype == 'O': # Filter only the categorical variables \n",
    "        print(f\"{i} contain:\", data[i].unique())\n",
    "        print(\"------------------\")"
   ]
  },
  {
   "cell_type": "markdown",
   "id": "dc4e6660",
   "metadata": {},
   "source": [
    "# Findings\n",
    "I can see in CODE_GENDER and ORGANIZATION_TYPE Columns have 'XNA' Value and due to the reply of one of the compition hosts at this link https://www.kaggle.com/c/home-credit-default-risk/discussion/57248 we will consider the 'XNA' and 'XNP' are NaN values (Check the first reply by 'Martin Kotek')\n",
    "\n",
    "Also in column NAME_FAMILY_STATUS there's 'Uknown' value which I'll consider also as a NAN"
   ]
  },
  {
   "cell_type": "code",
   "execution_count": null,
   "id": "d496e12c",
   "metadata": {},
   "outputs": [],
   "source": [
    "print(data[['ORGANIZATION_TYPE','NAME_FAMILY_STATUS', 'CODE_GENDER']].isnull().sum())\n",
    "print('-'*40)\n",
    "print(data[['ORGANIZATION_TYPE','NAME_FAMILY_STATUS', 'CODE_GENDER']].isnull().sum())"
   ]
  },
  {
   "cell_type": "code",
   "execution_count": null,
   "id": "676c5552",
   "metadata": {},
   "outputs": [],
   "source": [
    "users_nan = (data.isnull().sum() / data.shape[0]) * 100\n",
    "users_nan[users_nan > 0].sort_values(ascending=False)"
   ]
  },
  {
   "cell_type": "code",
   "execution_count": null,
   "id": "d7a2de18",
   "metadata": {},
   "outputs": [],
   "source": [
    "data.replace({'XNA': np.nan, 'XNP': np.nan, 'Unknown': np.nan}, inplace = True)"
   ]
  },
  {
   "cell_type": "code",
   "execution_count": null,
   "id": "b2a86be4",
   "metadata": {},
   "outputs": [],
   "source": [
    "users_nan = (data.isnull().sum() / data.shape[0]) * 100\n",
    "users_nan[users_nan > 0].sort_values(ascending=False)"
   ]
  },
  {
   "cell_type": "markdown",
   "id": "75282d2d",
   "metadata": {},
   "source": [
    "# Dropping the columns which contain more than 40% NaNs\n",
    "Note:\n",
    "If we have a time we may investigate further to gather more clean data or check with concerned team like (Data Engineers) why we have such all of this NaNs in those columns,\n",
    "but for now I'll just drop them as we don't have that much time"
   ]
  },
  {
   "cell_type": "code",
   "execution_count": null,
   "id": "6c19d0d8",
   "metadata": {},
   "outputs": [],
   "source": [
    "data.drop(data.columns[data.isnull().mean()>0.4],axis=1, inplace=True)"
   ]
  },
  {
   "cell_type": "code",
   "execution_count": null,
   "id": "32337b8c",
   "metadata": {},
   "outputs": [],
   "source": [
    "data.shape"
   ]
  },
  {
   "cell_type": "code",
   "execution_count": null,
   "id": "4104ddcd",
   "metadata": {},
   "outputs": [],
   "source": [
    "users_nan = (data.isnull().sum() / data.shape[0]) * 100\n",
    "users_nan[users_nan > 0].sort_values(ascending=False)"
   ]
  },
  {
   "cell_type": "markdown",
   "id": "9d64457d",
   "metadata": {},
   "source": [
    "# Transformations\n",
    "For speeding the approach, Columns which contain a very small amount of NaNs valuse will convert it to the most frequent (Mode) in case of categorical variables and Mean in case of numerical variables\n",
    "I'll do it for all columns which contain NaN values under 14%"
   ]
  },
  {
   "cell_type": "code",
   "execution_count": null,
   "id": "f89250c9",
   "metadata": {},
   "outputs": [],
   "source": [
    "# Columns have less 14% NaN Values and categorical\n",
    "Cat_columns_lower_percentage_nan  = [i for i in data.columns[(((data.isnull().sum() / data.shape[0]) * 100) > 0) \n",
    "                                                                  & (((data.isnull().sum() / data.shape[0]) * 100) < 14)] \n",
    "                                     if data[i].dtype == 'O']\n",
    "\n",
    "# Columns have less 14% NaN Values and numerical\n",
    "num_columns_lower_percentage_nan  = [i for i in data.columns[(((data.isnull().sum() / data.shape[0]) * 100) > 0) \n",
    "                                                                  & (((data.isnull().sum() / data.shape[0]) * 100) < 14)] \n",
    "                                     if data[i].dtype != 'O']"
   ]
  },
  {
   "cell_type": "code",
   "execution_count": null,
   "id": "93019fb4",
   "metadata": {},
   "outputs": [],
   "source": [
    "# Note: only on the app_train data because I want to avoide any data leakage so I will first transform the test data (based on information from train data (Mode,Mean))\n",
    "# Then  transform the train data\n",
    "\n",
    "for i in Cat_columns_lower_percentage_nan:\n",
    "    data[i].fillna(data[i].mode()[0], inplace=True)\n",
    "  "
   ]
  },
  {
   "cell_type": "markdown",
   "id": "ac9c688d",
   "metadata": {},
   "source": [
    "# Inspect Outliers\n",
    "I will check the numerical varibales we are about to fill the NaN values before the filling (Investigate for any outliers to see weather we will use mode or median or something else)"
   ]
  },
  {
   "cell_type": "code",
   "execution_count": null,
   "id": "f9911236",
   "metadata": {},
   "outputs": [],
   "source": [
    "data[num_columns_lower_percentage_nan].describe()"
   ]
  },
  {
   "cell_type": "code",
   "execution_count": null,
   "id": "1d01d00c",
   "metadata": {
    "scrolled": false
   },
   "outputs": [],
   "source": [
    "for i in num_columns_lower_percentage_nan:\n",
    "    plt.figure(figsize=(10,10))\n",
    "    sns.distplot(data[i])\n",
    "    plt.xticks(rotation = 70)"
   ]
  },
  {
   "cell_type": "markdown",
   "id": "e6f9dc13",
   "metadata": {},
   "source": [
    "# Mean imputation \n",
    "\n",
    "\n",
    "I can see some of the features are very skewed to the right (Outliers Exists) and some aren't. So I'll impute using mode for all variables\n",
    "\n",
    "except EXT_SOURCE_2, AMT_ANNUITY I'll use the mean as I can see from their distrbutions that the mean will be reliable value"
   ]
  },
  {
   "cell_type": "code",
   "execution_count": null,
   "id": "0902e709",
   "metadata": {},
   "outputs": [],
   "source": [
    "col_mod_transfrom = [i for i in num_columns_lower_percentage_nan if i not in ['EXT_SOURCE_2', 'AMT_ANNUITY','AMT_GOODS_PRICE']]\n",
    "col_mean_transform = ['EXT_SOURCE_2', 'AMT_ANNUITY']"
   ]
  },
  {
   "cell_type": "code",
   "execution_count": null,
   "id": "aabcb6eb",
   "metadata": {},
   "outputs": [],
   "source": [
    "for i in col_mod_transfrom:\n",
    "    data[i].fillna(data[i].mode()[0], inplace=True)"
   ]
  },
  {
   "cell_type": "code",
   "execution_count": null,
   "id": "ddbf073f",
   "metadata": {},
   "outputs": [],
   "source": [
    "for i in col_mean_transform:\n",
    "    data[i].fillna(data[i].mean(), inplace=True)"
   ]
  },
  {
   "cell_type": "code",
   "execution_count": null,
   "id": "e4b74a38",
   "metadata": {},
   "outputs": [],
   "source": [
    "data['AMT_GOODS_PRICE'].fillna(data['AMT_GOODS_PRICE'].median(),inplace = True)\n"
   ]
  },
  {
   "cell_type": "code",
   "execution_count": null,
   "id": "c8dcce31",
   "metadata": {},
   "outputs": [],
   "source": [
    "# extract continuous columns\n",
    "all_numerical_cols = list(data.select_dtypes(exclude='object').columns)\n"
   ]
  },
  {
   "cell_type": "code",
   "execution_count": null,
   "id": "6ad9e75e",
   "metadata": {},
   "outputs": [],
   "source": [
    "all_numerical_cols"
   ]
  },
  {
   "cell_type": "code",
   "execution_count": null,
   "id": "47b95928",
   "metadata": {},
   "outputs": [],
   "source": [
    "# continuous  columns are all columns excluding target and flags columns\n",
    "cont_cols = [col for col in all_numerical_cols if col != \"TARGET\" and col[:5]!='FLAG_']"
   ]
  },
  {
   "cell_type": "code",
   "execution_count": null,
   "id": "8cee7ae4",
   "metadata": {
    "scrolled": false
   },
   "outputs": [],
   "source": [
    "# draw histograms for each continuous column    \n",
    "plt.figure(figsize=(25, 50))\n",
    "for i, col in enumerate(cont_cols):\n",
    "    plt.subplot(16, 5, i+1)\n",
    "    sns.distplot(data[col])\n",
    "   "
   ]
  },
  {
   "cell_type": "code",
   "execution_count": null,
   "id": "75edb4db",
   "metadata": {},
   "outputs": [],
   "source": [
    "data[cont_cols[1:10]].describe()"
   ]
  },
  {
   "cell_type": "code",
   "execution_count": null,
   "id": "ba5b2c34",
   "metadata": {},
   "outputs": [],
   "source": [
    "data[cont_cols[10:18]].describe()"
   ]
  },
  {
   "cell_type": "code",
   "execution_count": null,
   "id": "4e57ad70",
   "metadata": {},
   "outputs": [],
   "source": [
    "data[cont_cols[18:27]].describe()"
   ]
  },
  {
   "cell_type": "code",
   "execution_count": null,
   "id": "fec01883",
   "metadata": {},
   "outputs": [],
   "source": [
    "data[cont_cols[27:]].describe()"
   ]
  },
  {
   "cell_type": "markdown",
   "id": "885c3305",
   "metadata": {},
   "source": [
    "# Findings\n",
    "* Days in negatives! it may the data source give all days data with negatives, simplly I'll multiply it by -1\n",
    "* DAYS_EMPLOYED have maximum value positive and it's 1000 years, also checking this link: https://www.kaggle.com/c/home-credit-default-risk/discussion/57248 the competition hosts mention that this value means infinty which we need to deal with it\n",
    "* It says in the competition documentation that DAYS_EMPLOYED is 'How many days before the application the person started current employment' and the minimum value for that column is 49 years so still in the same job 50 years!! is kinda suspicious (Except for the very very loyal people which they don't exist :D )\n",
    "*It seemes to me that maximum income is very suspicous as it's a very huge number comparing to Loan amount (Why someone income is 25 pounds and ask for 1 pound loan!).\n",
    "*Maximum Age is 69 years old! and maximum employing time is 49 years old! -- i need to check weathr is theres any one have a number of employing days more than the number of birth days (Note: you will see the minimum in days is 69 years but as the values are negatives so we will consider as maximum)"
   ]
  },
  {
   "cell_type": "markdown",
   "id": "c1968bf1",
   "metadata": {},
   "source": [
    "# Deal with unreal value for DAYS_EMPLOYED"
   ]
  },
  {
   "cell_type": "code",
   "execution_count": null,
   "id": "dae36f28",
   "metadata": {},
   "outputs": [],
   "source": [
    "# Check weather is there inconsistent data \n",
    "data[(abs(data['DAYS_BIRTH']) < abs(data['DAYS_EMPLOYED'])) & (data['DAYS_EMPLOYED'] != 365243)]"
   ]
  },
  {
   "cell_type": "code",
   "execution_count": null,
   "id": "88d7e2aa",
   "metadata": {},
   "outputs": [],
   "source": [
    "proper_days_employed_df = data\n",
    "proper_days_employed_df['YEARS_EMPLOYED'] = proper_days_employed_df['DAYS_EMPLOYED']/-365.25\n",
    "\n",
    "plt.figure(figsize=(15,5))\n",
    "plt.subplot(1, 2, 1)\n",
    "sns.distplot(proper_days_employed_df['YEARS_EMPLOYED'])\n"
   ]
  },
  {
   "cell_type": "code",
   "execution_count": null,
   "id": "bc82dcac",
   "metadata": {},
   "outputs": [],
   "source": [
    "# I'll convert all values with 365243 to NaN then I will fill it with ( Average Employment time group by the education )\n",
    "\n",
    "data['DAYS_EMPLOYED'].replace({365243:np.nan},inplace=True) \n"
   ]
  },
  {
   "cell_type": "code",
   "execution_count": null,
   "id": "95ee1d78",
   "metadata": {},
   "outputs": [],
   "source": [
    "proper_days_employed_df = data\n",
    "proper_days_employed_df['YEARS_EMPLOYED'] = proper_days_employed_df['DAYS_EMPLOYED']/-365.25\n",
    "\n",
    "plt.figure(figsize=(15,5))\n",
    "plt.subplot(1, 2, 1)\n",
    "sns.distplot(proper_days_employed_df['YEARS_EMPLOYED'])\n"
   ]
  },
  {
   "cell_type": "code",
   "execution_count": null,
   "id": "683d94a9",
   "metadata": {},
   "outputs": [],
   "source": [
    "# See the average years between the Days_birth and Days_employed but also I will depend on the OCCUPATION_TYPE \n",
    "\n",
    "data.groupby(['OCCUPATION_TYPE'])['DAYS_EMPLOYED'].mean()"
   ]
  },
  {
   "cell_type": "markdown",
   "id": "088d6ba2",
   "metadata": {},
   "source": [
    "## create Credit/Income and Annuity/Income percentages"
   ]
  },
  {
   "cell_type": "code",
   "execution_count": null,
   "id": "50807c21",
   "metadata": {},
   "outputs": [],
   "source": [
    "## create Credit/Income and Annuity/Income percentages\n",
    "data['Credit/Income'] = data['AMT_CREDIT']/data['AMT_INCOME_TOTAL']\n",
    "data['Annuity/Income'] = data['AMT_ANNUITY']/data['AMT_INCOME_TOTAL']\n"
   ]
  },
  {
   "cell_type": "code",
   "execution_count": null,
   "id": "8afeecd5",
   "metadata": {},
   "outputs": [],
   "source": [
    "data"
   ]
  },
  {
   "cell_type": "code",
   "execution_count": null,
   "id": "d8a9744e",
   "metadata": {},
   "outputs": [],
   "source": [
    "## show only clients with difficuties\n",
    "data[data['TARGET']==1].sort_values(by='Credit/Income', ascending=True)"
   ]
  },
  {
   "cell_type": "markdown",
   "id": "d4df05f9",
   "metadata": {},
   "source": [
    "# Check All categorical columns"
   ]
  },
  {
   "cell_type": "code",
   "execution_count": null,
   "id": "1cd595ce",
   "metadata": {},
   "outputs": [],
   "source": [
    "cat_col = data.select_dtypes('object')\n",
    "cat_col.describe()"
   ]
  },
  {
   "cell_type": "code",
   "execution_count": null,
   "id": "7b5504cc",
   "metadata": {
    "scrolled": false
   },
   "outputs": [],
   "source": [
    "for i in cat_col:\n",
    "    plt.figure(figsize=(10,10))\n",
    "    sns.countplot(cat_col[i], orient = 'h', order = cat_col[i].value_counts().index)\n",
    "    plt.xticks(rotation = 70)"
   ]
  },
  {
   "cell_type": "markdown",
   "id": "c3821420",
   "metadata": {},
   "source": [
    "# Action will make for simpler data and filling the NaNs\n",
    "\n",
    "* NAME_TYPE_SUIT will shorten the categories and merge Other_A, Other_B and Group of people to same Group called Others\n",
    "* NAME_INCOME_TYPE will shorten the categories and merge Unemployed, student, Maternity leave to same group as logically all of them don't have source of money so will behave similarly regarding the target value\n",
    "* ORGNIZATION_TYPE I'll take around 10-15 category and merge others to same group called Other\n",
    "* we have +30% of OCCUPATION_TYPE in train and test data is NaNs, I'll fill it using the mode groupping by the  NAME_EDUCATION_TYPE because it's the most reasonable column who can refer to the occupation type\n",
    "* we have +17% of EXT_SOURCE_3 in train and test data is NaNs, I'll fill it using the mean groupping by the OCUPPATION_TYPE\n",
    "* we have +18% of ORGNIZATION_TYPE in train and test data is NaNs, I'll fill it using the mode groupping by the OCUPPATION_TYPE"
   ]
  },
  {
   "cell_type": "code",
   "execution_count": null,
   "id": "2c8c0e0d",
   "metadata": {},
   "outputs": [],
   "source": [
    "data.groupby(['NAME_EDUCATION_TYPE'])['OCCUPATION_TYPE'].agg(pd.Series.mode)"
   ]
  },
  {
   "cell_type": "code",
   "execution_count": null,
   "id": "3d211a84",
   "metadata": {},
   "outputs": [],
   "source": [
    "data['OCCUPATION_TYPE'].isnull().sum()"
   ]
  },
  {
   "cell_type": "markdown",
   "id": "2d5da167",
   "metadata": {},
   "source": [
    "# Imputing OCCUPATION_TYPE with NAME_EDUCATION_TYPE mode"
   ]
  },
  {
   "cell_type": "code",
   "execution_count": null,
   "id": "29cc7e42",
   "metadata": {},
   "outputs": [],
   "source": [
    "data['OCCUPATION_TYPE'][data['NAME_EDUCATION_TYPE']=='Secondary / secondary special'] = data['OCCUPATION_TYPE'][data['NAME_EDUCATION_TYPE']=='Secondary / secondary special'].fillna('Laborers')\n",
    "data['OCCUPATION_TYPE'][data['NAME_EDUCATION_TYPE']=='Higher education'] =  data['OCCUPATION_TYPE'][data['NAME_EDUCATION_TYPE']=='Higher education'].fillna('Core staff')\n",
    "data['OCCUPATION_TYPE'][data['NAME_EDUCATION_TYPE']=='Incomplete higher'] = data['OCCUPATION_TYPE'][data['NAME_EDUCATION_TYPE']=='Incomplete higher'].fillna('Laborers')\n",
    "data['OCCUPATION_TYPE'][data['NAME_EDUCATION_TYPE']=='Lower secondary'] = data['OCCUPATION_TYPE'][data['NAME_EDUCATION_TYPE']=='Lower secondary'].fillna('Laborers')\n",
    "data['OCCUPATION_TYPE'][data['NAME_EDUCATION_TYPE']=='Academic degree'] = data['OCCUPATION_TYPE'][data['NAME_EDUCATION_TYPE']=='Academic degree'].fillna('Managers')"
   ]
  },
  {
   "cell_type": "code",
   "execution_count": null,
   "id": "c60b195f",
   "metadata": {},
   "outputs": [],
   "source": []
  },
  {
   "cell_type": "code",
   "execution_count": null,
   "id": "73d166e0",
   "metadata": {},
   "outputs": [],
   "source": [
    "data.groupby(['OCCUPATION_TYPE'])['ORGANIZATION_TYPE'].agg(pd.Series.mode)"
   ]
  },
  {
   "cell_type": "markdown",
   "id": "ec0d975b",
   "metadata": {},
   "source": [
    "# The next cell is just imputing the NaNs in ORGANIZATION_TYPE based on the mode of every group in OCCUPATION_TYPE"
   ]
  },
  {
   "cell_type": "code",
   "execution_count": null,
   "id": "538e7124",
   "metadata": {},
   "outputs": [],
   "source": [
    "data['ORGANIZATION_TYPE'][(data['OCCUPATION_TYPE'] == 'Accountants') |\n",
    "                               (data['OCCUPATION_TYPE'] == 'Cleaning staff') |\n",
    "                               (data['OCCUPATION_TYPE'] == 'Cooking staff') |\n",
    "                               (data['OCCUPATION_TYPE'] == 'Core staff')|\n",
    "                               (data['OCCUPATION_TYPE'] == 'Drivers')|\n",
    "                               (data['OCCUPATION_TYPE'] == 'HR staff')|\n",
    "                               (data['OCCUPATION_TYPE'] == 'High skill tech staff')|\n",
    "                               (data['OCCUPATION_TYPE'] == 'IT staff')|\n",
    "                               (data['OCCUPATION_TYPE'] == 'Laborers')|\n",
    "                               (data['OCCUPATION_TYPE'] == 'Low-skill Laborers')|\n",
    "                               (data['OCCUPATION_TYPE'] == 'Managers')] = data['ORGANIZATION_TYPE'][(data['OCCUPATION_TYPE'] == 'Accountants') |\n",
    "                                                                                                             (data['OCCUPATION_TYPE'] == 'Cleaning staff') |\n",
    "                                                                                                             (data['OCCUPATION_TYPE'] == 'Cooking staff') |\n",
    "                                                                                                             (data['OCCUPATION_TYPE'] == 'Core staff')|\n",
    "                                                                                                             (data['OCCUPATION_TYPE'] == 'Drivers')|\n",
    "                                                                                                             (data['OCCUPATION_TYPE'] == 'HR staff')|\n",
    "                                                                                                             (data['OCCUPATION_TYPE'] == 'High skill tech staff')|\n",
    "                                                                                                             (data['OCCUPATION_TYPE'] == 'IT staff')|\n",
    "                                                                                                             (data['OCCUPATION_TYPE'] == 'Laborers')|\n",
    "                                                                                                             (data['OCCUPATION_TYPE'] == 'Low-skill Laborers')|\n",
    "                                                                                                             (data['OCCUPATION_TYPE'] == 'Managers')].fillna('Business Entity Type 3')\n",
    "\n",
    "\n",
    "\n",
    "data['ORGANIZATION_TYPE'][(data['OCCUPATION_TYPE'] == 'Medicine staff')|\n",
    "                              (data['OCCUPATION_TYPE'] == 'Secretaries')] = data['ORGANIZATION_TYPE'][(data['OCCUPATION_TYPE'] == 'Medicine staff')|\n",
    "                                                                                                                  (data['OCCUPATION_TYPE'] == 'Secretaries')].fillna('Medicine')\n",
    "\n",
    "data['ORGANIZATION_TYPE'][(data['OCCUPATION_TYPE'] == 'Private service staff')|\n",
    "                               (data['OCCUPATION_TYPE'] == 'Realty agents')|\n",
    "                               (data['OCCUPATION_TYPE'] == 'Sales staff')] = data['ORGANIZATION_TYPE'][(data['OCCUPATION_TYPE'] == 'Private service staff')|\n",
    "                                                                                                                 (data['OCCUPATION_TYPE'] == 'Realty agents')|\n",
    "                                                                                                                 (data['OCCUPATION_TYPE'] == 'Sales staff')].fillna('Self-employed')\n",
    "\n",
    "data['ORGANIZATION_TYPE'][(data['OCCUPATION_TYPE'] == 'Security staff')] = data['ORGANIZATION_TYPE'][(data['OCCUPATION_TYPE'] == 'Security staff')].fillna('Security')\n",
    "\n"
   ]
  },
  {
   "cell_type": "code",
   "execution_count": null,
   "id": "5020a5bb",
   "metadata": {},
   "outputs": [],
   "source": [
    "data['OCCUPATION_TYPE'].isnull().sum()"
   ]
  },
  {
   "cell_type": "code",
   "execution_count": null,
   "id": "6548d249",
   "metadata": {},
   "outputs": [],
   "source": []
  },
  {
   "cell_type": "markdown",
   "id": "9fe4bd6b",
   "metadata": {},
   "source": [
    "# Convirting Small categories \"into Others\""
   ]
  },
  {
   "cell_type": "markdown",
   "id": "cf0a12eb",
   "metadata": {},
   "source": [
    "*  I'll take Only the first 15 Categories and I'll convirt the rest to \"Others\" not \"Other\" because we already have a group called \"Other: and i want to put them in a different group\n"
   ]
  },
  {
   "cell_type": "code",
   "execution_count": null,
   "id": "4de39b52",
   "metadata": {},
   "outputs": [],
   "source": [
    "data['ORGANIZATION_TYPE'].value_counts(normalize = True)"
   ]
  },
  {
   "cell_type": "code",
   "execution_count": null,
   "id": "f1678137",
   "metadata": {},
   "outputs": [],
   "source": [
    "others = data['ORGANIZATION_TYPE'].value_counts().index[15:]\n",
    "label = 'Others'\n",
    "data['ORGANIZATION_TYPE'] = data['ORGANIZATION_TYPE'].replace(others, label)\n"
   ]
  },
  {
   "cell_type": "code",
   "execution_count": null,
   "id": "44ff34be",
   "metadata": {},
   "outputs": [],
   "source": [
    "data['ORGANIZATION_TYPE'].unique()"
   ]
  },
  {
   "cell_type": "code",
   "execution_count": null,
   "id": "0a8aa00d",
   "metadata": {},
   "outputs": [],
   "source": [
    "users_nan = (data.isnull().sum() / data.shape[0]) * 100\n",
    "users_nan[users_nan > 0].sort_values(ascending=False)"
   ]
  },
  {
   "cell_type": "code",
   "execution_count": null,
   "id": "23a5dbd2",
   "metadata": {},
   "outputs": [],
   "source": [
    "data.shape"
   ]
  },
  {
   "cell_type": "code",
   "execution_count": null,
   "id": "7db4c415",
   "metadata": {},
   "outputs": [],
   "source": [
    "data"
   ]
  },
  {
   "cell_type": "markdown",
   "id": "290b3660",
   "metadata": {},
   "source": [
    "# Imputing DAYS_EMPLOYED and YEARS_EMPLOYED\n",
    "* We assume most of workers start at 20 Years old = 7305 days"
   ]
  },
  {
   "cell_type": "code",
   "execution_count": null,
   "id": "1ede67d5",
   "metadata": {},
   "outputs": [],
   "source": [
    "data[data[\"DAYS_EMPLOYED\"].isna()][\"DAYS_BIRTH\"]"
   ]
  },
  {
   "cell_type": "code",
   "execution_count": null,
   "id": "b766d9f0",
   "metadata": {},
   "outputs": [],
   "source": [
    "data[data[\"DAYS_EMPLOYED\"].isna()][\"DAYS_BIRTH\"] + 7305"
   ]
  },
  {
   "cell_type": "code",
   "execution_count": null,
   "id": "4f65f2f2",
   "metadata": {},
   "outputs": [],
   "source": [
    "data.loc[data[\"DAYS_EMPLOYED\"].isna(),[\"DAYS_EMPLOYED\"]] = data[data[\"DAYS_EMPLOYED\"].isna()][\"DAYS_BIRTH\"] + 7305"
   ]
  },
  {
   "cell_type": "code",
   "execution_count": null,
   "id": "ca037692",
   "metadata": {},
   "outputs": [],
   "source": [
    "round(data[data[\"YEARS_EMPLOYED\"].isna()][\"DAYS_EMPLOYED\"] / 365.25)"
   ]
  },
  {
   "cell_type": "code",
   "execution_count": null,
   "id": "2563bbd1",
   "metadata": {},
   "outputs": [],
   "source": [
    "data.loc[data[\"YEARS_EMPLOYED\"].isna(),[\"YEARS_EMPLOYED\"]] = round(data[data[\"YEARS_EMPLOYED\"].isna()][\"DAYS_EMPLOYED\"] / 365.25)"
   ]
  },
  {
   "cell_type": "code",
   "execution_count": null,
   "id": "4cfcef0b",
   "metadata": {},
   "outputs": [],
   "source": [
    "\"\"\"data.drop(['DAYS_EMPLOYED'], axis = 1,inplace=True)\n",
    "data.drop(['YEARS_EMPLOYED'], axis = 1,inplace=True)\"\"\""
   ]
  },
  {
   "cell_type": "code",
   "execution_count": null,
   "id": "451c2093",
   "metadata": {},
   "outputs": [],
   "source": [
    "users_nan = (data.isnull().sum() / data.shape[0]) * 100\n",
    "users_nan[users_nan > 0].sort_values(ascending=False)"
   ]
  },
  {
   "cell_type": "markdown",
   "id": "65a92643",
   "metadata": {},
   "source": [
    "# Deleting remaining NaN"
   ]
  },
  {
   "cell_type": "code",
   "execution_count": null,
   "id": "d5393821",
   "metadata": {},
   "outputs": [],
   "source": [
    "\n",
    "data.drop(['EXT_SOURCE_3'], axis = 1,inplace=True)\n"
   ]
  },
  {
   "cell_type": "code",
   "execution_count": null,
   "id": "f1b0e898",
   "metadata": {},
   "outputs": [],
   "source": [
    "data.shape"
   ]
  },
  {
   "cell_type": "code",
   "execution_count": null,
   "id": "6464f175",
   "metadata": {},
   "outputs": [],
   "source": [
    "data"
   ]
  },
  {
   "cell_type": "markdown",
   "id": "37b4e64f",
   "metadata": {},
   "source": [
    "# DATA Cleaned ?"
   ]
  },
  {
   "cell_type": "code",
   "execution_count": null,
   "id": "bc06cb6f",
   "metadata": {},
   "outputs": [],
   "source": [
    "print(data['TARGET'].isnull().sum())"
   ]
  },
  {
   "cell_type": "code",
   "execution_count": null,
   "id": "66d8389a",
   "metadata": {},
   "outputs": [],
   "source": [
    "plt.figure(figsize=(10,10))\n",
    "sns.countplot(data['TARGET'])"
   ]
  },
  {
   "cell_type": "code",
   "execution_count": null,
   "id": "3f68dcee",
   "metadata": {},
   "outputs": [],
   "source": [
    "# It's very obvious that we have imbalanced data, class(1) is about 8% of the data\n",
    "data['TARGET'].value_counts(normalize=True).reset_index()"
   ]
  },
  {
   "cell_type": "markdown",
   "id": "9d61fe6e",
   "metadata": {},
   "source": [
    "# Data is imbalanced so:\n",
    "* I'll Consider tha class_weight solution for this problem when we go to the modeling phase (We can use under smapling or over sampling but for me because of the huge difference between both classes, class weight is the best solution)\n",
    "* Accuracy is not a proper evaluation metric, it will be misleading so we will need to check another metric (e.g. roc_auc)."
   ]
  },
  {
   "cell_type": "markdown",
   "id": "96de0749",
   "metadata": {},
   "source": [
    "# Bivariate Analysis"
   ]
  },
  {
   "cell_type": "markdown",
   "id": "56fae5b3",
   "metadata": {},
   "source": [
    "# Which gender applys more for loans?"
   ]
  },
  {
   "cell_type": "code",
   "execution_count": null,
   "id": "122e5764",
   "metadata": {},
   "outputs": [],
   "source": [
    "# Which gender applys more for loans?\n",
    "# Is there relation between the gender and the ability to repay?\n",
    "\n",
    "plt.figure(figsize=(12,5))\n",
    "plt.subplot(1, 2, 1)\n",
    "data['CODE_GENDER'].value_counts().plot(kind='bar', title='Males VS Females Apply for Loans');\n",
    "plt.xlabel('Gender')\n",
    "plt.ylabel('Count')\n",
    "\n",
    "plt.subplot(1, 2, 2)\n",
    "sns.countplot(data=data, x='CODE_GENDER', hue='TARGET');\n",
    "plt.title('Males VS Females with Respect to Target')\n",
    "plt.xlabel('Gender')\n",
    "plt.show()\n",
    "\n",
    "print(data['CODE_GENDER'].value_counts(normalize=True))\n",
    "print('-'*40)\n",
    "print(data.groupby(['TARGET'])['CODE_GENDER'].value_counts(normalize=True))\n",
    "print('-'*40)\n",
    "print(data.groupby(['CODE_GENDER'])['TARGET'].value_counts(normalize=True))"
   ]
  },
  {
   "cell_type": "markdown",
   "id": "31d33232",
   "metadata": {},
   "source": [
    "* Females applys for loans more than Males\n",
    "* Gender not affect in our Target because the difference between the gender are only 3% ( we can't relay on it)"
   ]
  },
  {
   "cell_type": "markdown",
   "id": "1f3260a7",
   "metadata": {},
   "source": [
    "# Which type of loan contract clients applys more for?"
   ]
  },
  {
   "cell_type": "code",
   "execution_count": null,
   "id": "5043ab70",
   "metadata": {},
   "outputs": [],
   "source": [
    "# Which type of loan contract clients applys more for?\n",
    "\n",
    "plt.figure(figsize=(12,5))\n",
    "plt.subplot(1, 2, 1)\n",
    "data['NAME_CONTRACT_TYPE'].value_counts().plot(kind='bar', title='Cash VS Revolving Loans');\n",
    "plt.xlabel('Loan Type')\n",
    "plt.ylabel('Count')\n",
    "plt.xticks(rotation=0)\n",
    "\n",
    "plt.subplot(1, 2, 2)\n",
    "sns.countplot(data=data, x='NAME_CONTRACT_TYPE', hue='TARGET')\n",
    "plt.title('Cash VS Revolving Loans with Respect to Target')\n",
    "plt.xlabel('.')\n",
    "plt.show()\n",
    "\n",
    "print(data['NAME_CONTRACT_TYPE'].value_counts(normalize=True))\n",
    "print('-'*40)\n",
    "print(data.groupby(['TARGET'])['NAME_CONTRACT_TYPE'].value_counts(normalize=True))"
   ]
  },
  {
   "cell_type": "markdown",
   "id": "f1a18d41",
   "metadata": {},
   "source": [
    "* Most of the clients take cash loans\n",
    "* It seems to me that this feature has no effect on the target"
   ]
  },
  {
   "cell_type": "markdown",
   "id": "8f163aba",
   "metadata": {},
   "source": [
    "# Is there relation between the age and the ability to repay?"
   ]
  },
  {
   "cell_type": "code",
   "execution_count": null,
   "id": "f2961e2c",
   "metadata": {},
   "outputs": [],
   "source": [
    "\n",
    "plt.figure(figsize=(15,5))\n",
    "plt.subplot(1, 2, 1)\n",
    "(data['DAYS_BIRTH']/-365.25).plot(kind='hist', bins=50, title='Distribution of Clients\\' Age');\n",
    "plt.xlabel('Age')\n",
    "plt.ylabel('Frequency')\n",
    "\n",
    "plt.subplot(1, 2, 2)\n",
    "proper_day_birth_df = data[['DAYS_BIRTH', 'TARGET']]\n",
    "proper_day_birth_df['DAYS_BIRTH'] = proper_day_birth_df['DAYS_BIRTH']/-365.25\n",
    "sns.distplot(proper_day_birth_df[proper_day_birth_df['TARGET']==0]['DAYS_BIRTH'], hist=False, label='Can Repay');\n",
    "sns.distplot(proper_day_birth_df[proper_day_birth_df['TARGET']==1]['DAYS_BIRTH'], hist=False, label='Can\\'t Repay');\n",
    "plt.title('Distribution of Clients\\' Age with Respect to Target')\n",
    "plt.xlabel('Age')\n",
    "plt.legend();\n",
    "plt.show()"
   ]
  },
  {
   "cell_type": "markdown",
   "id": "c89f53eb",
   "metadata": {},
   "source": [
    "* Clients aged about 30 years are more likely to have difficulties with repay, where those aged about 40 and more can repay well.\n",
    "* This feature will be important for the model."
   ]
  },
  {
   "cell_type": "markdown",
   "id": "b8abdcd8",
   "metadata": {},
   "source": [
    "# Does the client's No. of children affect the ability to repay?"
   ]
  },
  {
   "cell_type": "code",
   "execution_count": null,
   "id": "3e89763e",
   "metadata": {},
   "outputs": [],
   "source": [
    "plt.figure(figsize=(15,5))\n",
    "plt.subplot(1, 2, 1)\n",
    "data['CNT_CHILDREN'].plot(kind='hist', bins=19, title='Distribution of Clients\\' No. of Children');\n",
    "plt.xlabel('No. of Children')\n",
    "plt.ylabel('Frequency')\n",
    "\n",
    "plt.subplot(1, 2, 2)\n",
    "sns.distplot(data[data['TARGET']==0]['CNT_CHILDREN'], hist=False, label='Can Repay');\n",
    "sns.distplot(data[data['TARGET']==1]['CNT_CHILDREN'], hist=False, label='Can\\'t Repay');\n",
    "plt.title('Clients\\' No. of Children with Respect to Target')\n",
    "plt.xlabel('No. of Children')\n",
    "plt.legend()\n",
    "plt.show()"
   ]
  },
  {
   "cell_type": "markdown",
   "id": "9b2383f4",
   "metadata": {},
   "source": [
    "* Client's without any children applys for loans more than others, and with increasing No. of children, client's don't tend to loan"
   ]
  },
  {
   "cell_type": "markdown",
   "id": "81d5614d",
   "metadata": {},
   "source": [
    "# Is there a relation between client income ant the amount of loan apply for?\n",
    "\n"
   ]
  },
  {
   "cell_type": "markdown",
   "id": "43cb8619",
   "metadata": {},
   "source": [
    "# Does income and credit affect in the ability to repay?"
   ]
  },
  {
   "cell_type": "code",
   "execution_count": null,
   "id": "e276cff7",
   "metadata": {},
   "outputs": [],
   "source": [
    "data"
   ]
  },
  {
   "cell_type": "code",
   "execution_count": null,
   "id": "cf03fccd",
   "metadata": {},
   "outputs": [],
   "source": [
    "plt.figure(figsize=(15,5))\n",
    "plt.subplot(1, 2, 1)\n",
    "proper_income_df = data.copy()\n",
    "proper_income_df['AMT_INCOME_TOTAL'] = proper_income_df['AMT_INCOME_TOTAL']/10000\n",
    "proper_income_df['AMT_INCOME_TOTAL'].plot(kind='hist', bins=1000, title='Distribution of Clients\\' Income');\n",
    "plt.xlabel('Total Income')\n",
    "plt.xlim([0,100])\n",
    "\n",
    "plt.subplot(1, 2, 2)\n",
    "sns.distplot(proper_income_df[proper_income_df['TARGET']==0]['AMT_INCOME_TOTAL'], hist=False, bins=1000, label='Can Repay');\n",
    "sns.distplot(proper_income_df[proper_income_df['TARGET']==1]['AMT_INCOME_TOTAL'], hist=False, bins=1000, label='Can\\'t Repay');\n",
    "plt.title('Distribution of Clients\\' Income with Respect to Target')\n",
    "plt.xlabel('Total Income')\n",
    "plt.xlim([0,100])\n",
    "plt.legend();\n",
    "plt.show()"
   ]
  },
  {
   "cell_type": "code",
   "execution_count": null,
   "id": "2350d174",
   "metadata": {},
   "outputs": [],
   "source": [
    "proper_income_df['log_AMT_INCOME_TOTAL'] = np.log10(proper_income_df['AMT_INCOME_TOTAL']*10000)\n",
    "proper_income_df['log_AMT_CREDIT'] = np.log10(proper_income_df['AMT_CREDIT'])\n",
    "\n",
    "plt.figure(figsize=(8,8))\n",
    "sns.lmplot(x='log_AMT_INCOME_TOTAL', y='log_AMT_CREDIT', data=proper_income_df, hue='TARGET');\n",
    "plt.title('Relation Between Total Income & Loan Credit')\n",
    "plt.xlabel('Total Income')\n",
    "plt.ylabel('Loan Credit')\n",
    "plt.show()\n",
    "\n",
    "sns.distplot(proper_income_df[proper_income_df['TARGET']==0]['log_AMT_CREDIT'], hist=False, label='Can Repay');\n",
    "sns.distplot(proper_income_df[proper_income_df['TARGET']==1]['log_AMT_CREDIT'], hist=False, label='Can\\'t Repay');\n",
    "plt.title('Distribution of Loan Credit with Respect to Target');\n",
    "plt.xlabel('Loan Credit')\n",
    "plt.legend();"
   ]
  },
  {
   "cell_type": "markdown",
   "id": "4cd935cc",
   "metadata": {},
   "source": [
    "* Client's with low income tends to apply for loans more than others with high income.\n",
    "* The more client's income is, the larger loan amount apply for.\n",
    "* Client't with income more than 3M tends always to repay, so this feature may help in our target (Frist Graph on the right)\n",
    "* Clients with income between 10 and 18 are less likely to repay, vice versa. (Frist Graph on the right)\n",
    "* I can see that Loan Credit isn't affect the Target Distirbution"
   ]
  },
  {
   "cell_type": "markdown",
   "id": "6a29f89c",
   "metadata": {},
   "source": [
    "# what's most income type of clients?"
   ]
  },
  {
   "cell_type": "code",
   "execution_count": null,
   "id": "26aa9991",
   "metadata": {},
   "outputs": [],
   "source": [
    "ax = sns.countplot(data=data, x='NAME_INCOME_TYPE', hue='TARGET');\n",
    "ax.set_xticklabels(ax.get_xticklabels(),rotation = 90);\n",
    "plt.title('Clients\\' Income Type Value Counts with Respect to Target')\n",
    "plt.xlabel('Income Type')\n",
    "plt.show()\n",
    "\n",
    "print('\\n'*2)\n",
    "data.groupby('NAME_INCOME_TYPE')['TARGET'].value_counts()"
   ]
  },
  {
   "cell_type": "markdown",
   "id": "5f935a9e",
   "metadata": {},
   "source": [
    "* Working clients are more willing to apply for loans more than others.\n",
    "* Altought a few businessmen and students apply for loans, but they always repay."
   ]
  },
  {
   "cell_type": "markdown",
   "id": "ffe5c04e",
   "metadata": {},
   "source": [
    "# what's most high education degree for clients?"
   ]
  },
  {
   "cell_type": "code",
   "execution_count": null,
   "id": "d546735b",
   "metadata": {},
   "outputs": [],
   "source": [
    "ax = sns.countplot(data=data, x='NAME_EDUCATION_TYPE', hue='TARGET');\n",
    "ax.set_xticklabels(ax.get_xticklabels(),rotation = 90);\n",
    "plt.title('Clients\\' High Education Level Value Counts with Respect to Target')\n",
    "plt.xlabel('High Education Level')\n",
    "plt.show()\n",
    "\n",
    "print('\\n'*2)\n",
    "data.groupby('NAME_EDUCATION_TYPE')['TARGET'].value_counts()"
   ]
  },
  {
   "cell_type": "markdown",
   "id": "898d8d23",
   "metadata": {},
   "source": [
    "* Clients with Secondary high education level are more willing to apply for loans more than others.\n",
    "* Almost 98% of clients with Academic degree high education level can repay their loans."
   ]
  },
  {
   "cell_type": "markdown",
   "id": "d01c48ab",
   "metadata": {},
   "source": [
    "# IS there relation between employment year and the ability to repay"
   ]
  },
  {
   "cell_type": "code",
   "execution_count": null,
   "id": "3c08dc44",
   "metadata": {},
   "outputs": [],
   "source": [
    "proper_days_employed_df = data.copy()\n",
    "proper_days_employed_df['YEARS_EMPLOYED'] = proper_days_employed_df['DAYS_EMPLOYED']/-365.25\n",
    "\n",
    "plt.figure(figsize=(15,5))\n",
    "plt.subplot(1, 2, 1)\n",
    "sns.distplot(proper_days_employed_df['YEARS_EMPLOYED'])\n",
    "plt.title('Distribution of Clients\\' Employment Years')\n",
    "plt.xlabel('Employment Years')\n",
    "\n",
    "plt.subplot(1, 2, 2)\n",
    "sns.distplot(proper_days_employed_df[proper_days_employed_df['TARGET']==0]['YEARS_EMPLOYED'], hist=False, label='Can Repay');\n",
    "sns.distplot(proper_days_employed_df[proper_days_employed_df['TARGET']==1]['YEARS_EMPLOYED'], hist=False, label='Can\\'t Repay');\n",
    "plt.title('Distribution of Clients\\' Employment Years with Respect to Target');\n",
    "plt.xlim([-5,20])\n",
    "plt.xlabel('Employment Years')\n",
    "plt.legend();"
   ]
  },
  {
   "cell_type": "code",
   "execution_count": null,
   "id": "53425b26",
   "metadata": {},
   "outputs": [],
   "source": [
    "proper_days_employed_df['YEARS_EMPLOYED'] "
   ]
  },
  {
   "cell_type": "markdown",
   "id": "129341a3",
   "metadata": {},
   "source": [
    "# categorical variables among the target to see weather any pattern¶"
   ]
  },
  {
   "cell_type": "code",
   "execution_count": null,
   "id": "5bcd20a8",
   "metadata": {
    "scrolled": false
   },
   "outputs": [],
   "source": [
    "for i in cat_col:\n",
    "    plt.figure(figsize=(10,10))\n",
    "    sns.countplot(data = data, x = 'TARGET', hue= i)\n",
    "    plt.xlabel('TARGET')\n",
    "    plt.ylabel('Count')\n",
    "    plt.title(f'{i}-TARGET Distribution')\n",
    "    plt.show()"
   ]
  },
  {
   "cell_type": "markdown",
   "id": "a17357b0",
   "metadata": {},
   "source": [
    "I see most of the data aren't give much informaion about the categories, so i may go for statistical approach to test the dependancy for each variable and the TARGET"
   ]
  },
  {
   "cell_type": "code",
   "execution_count": null,
   "id": "4618dee7",
   "metadata": {},
   "outputs": [],
   "source": [
    "def dependency(data, feature):\n",
    "    \n",
    "    table = pd.crosstab(data['TARGET'], data[feature])\n",
    "    stat, p, dof, expected = chi2_contingency(table) \n",
    "    \n",
    "    print(feature)\n",
    "    print(\"Degree of freedom: \", dof)\n",
    "    significance_level = 0.05\n",
    "    print(\"p value: \" + str(p)) \n",
    "\n",
    "    if p <= significance_level: \n",
    "        print( 'REJECT NULL HYPOTHESIS, THE VARIABLES ARE DEPENDENT') \n",
    "    else: \n",
    "        print('{}: ACCEPT NULL HYPOTHESIS, THE VARIABLES ARE INDEPENDENT')\n",
    "    print()"
   ]
  },
  {
   "cell_type": "code",
   "execution_count": null,
   "id": "d3ee1db2",
   "metadata": {},
   "outputs": [],
   "source": [
    "from scipy.stats import chi2_contingency"
   ]
  },
  {
   "cell_type": "code",
   "execution_count": null,
   "id": "24b111d2",
   "metadata": {},
   "outputs": [],
   "source": [
    "for i in cat_col.columns:\n",
    "    dependency(data,i)"
   ]
  },
  {
   "cell_type": "markdown",
   "id": "0807b6ac",
   "metadata": {},
   "source": [
    "# CORRELATION"
   ]
  },
  {
   "cell_type": "code",
   "execution_count": null,
   "id": "3e8dfc19",
   "metadata": {},
   "outputs": [],
   "source": [
    "cont_cols.remove('EXT_SOURCE_3')"
   ]
  },
  {
   "cell_type": "code",
   "execution_count": null,
   "id": "299da795",
   "metadata": {},
   "outputs": [],
   "source": [
    "cont_cols_with_target = cont_cols + ['TARGET']"
   ]
  },
  {
   "cell_type": "code",
   "execution_count": null,
   "id": "efc64d1e",
   "metadata": {},
   "outputs": [],
   "source": [
    "ext_data = data[cont_cols_with_target]\n",
    "ext_data_corrs = ext_data.corr()"
   ]
  },
  {
   "cell_type": "code",
   "execution_count": null,
   "id": "93fc5664",
   "metadata": {},
   "outputs": [],
   "source": [
    "plt.figure(figsize = (25, 25))\n",
    "\n",
    "# Heatmap of correlations\n",
    "sns.heatmap(ext_data_corrs, cmap = plt.cm.RdYlBu_r, vmin = -0.25, annot = True, vmax = 0.6)\n",
    "plt.title('Correlation Heatmap');"
   ]
  },
  {
   "cell_type": "markdown",
   "id": "c21e5ac9",
   "metadata": {},
   "source": [
    "# Findings\n",
    "* CNT_CHILDREN AND CNT_FAM_MEMBERS have 0.88 correlation\n",
    "* AMT_CREDIT AND AMT_GOOD_PRICE have 0.99 correlation\n",
    "* AMT_CREDIT AND AMT_ANNUITY have 0.77 correlation\n",
    "* REGION_RATING_CLINET AND REGION_RATING_CLIENT_W_CITY have 0.95 correlation\n",
    "* REG_REGION_NOT_WORK_REGION AND LIVE_REGION_NOT_WORK_REGION have 0.86 correlation\n",
    "* REG_CITY_NOT_WORK_CITY AND LIVE_CITY_NOT_WORK_CITY have 0.83 correlation\n",
    "* OBS_30_CNT_SOCIAL_CIRCLE AND OBS_60_CNT_SOCIAL_CIRCLE have 1 correlation\n",
    "* DEF_30_CNT_SOCIAL_CIRCLE AND DEF_60_CNT_SOCIAL_CIRCLE have 0.86 correlation\n",
    "* I will drop one of every pairs (the one who is less correlated with the TARGET)¶"
   ]
  },
  {
   "cell_type": "code",
   "execution_count": null,
   "id": "0072505b",
   "metadata": {},
   "outputs": [],
   "source": [
    "ext_data_corrs['TARGET'].abs().sort_values(ascending=False)"
   ]
  },
  {
   "cell_type": "code",
   "execution_count": null,
   "id": "9ad2a018",
   "metadata": {},
   "outputs": [],
   "source": [
    "data = data.drop(columns=[\n",
    "    'CNT_FAM_MEMBERS',\n",
    "    'LIVE_REGION_NOT_WORK_REGION',\n",
    "    'REG_REGION_NOT_WORK_REGION',\n",
    "    'OBS_60_CNT_SOCIAL_CIRCLE',\n",
    "\n",
    "    'YEARS_EMPLOYED'\n",
    "])"
   ]
  },
  {
   "cell_type": "code",
   "execution_count": null,
   "id": "6bfcb7a1",
   "metadata": {},
   "outputs": [],
   "source": [
    "cols_to_remove = ['AMT_CREDIT', 'CNT_FAM_MEMBERS', 'REG_REGION_NOT_WORK_REGION', 'LIVE_REGION_NOT_WORK_REGION', 'OBS_60_CNT_SOCIAL_CIRCLE','SK_ID_CURR']\n",
    "cont_cols = list(set(cont_cols) - set(cols_to_remove))\n",
    "cont_cols "
   ]
  },
  {
   "cell_type": "markdown",
   "id": "d675990a",
   "metadata": {},
   "source": [
    "# Outliers imputations"
   ]
  },
  {
   "cell_type": "code",
   "execution_count": null,
   "id": "bd04ae21",
   "metadata": {},
   "outputs": [],
   "source": [
    "def impute_outliers_IQR(df):\n",
    "\n",
    "    q1=df.quantile(0.25)\n",
    "    q3=df.quantile(0.75)\n",
    "\n",
    "    IQR=q3-q1\n",
    "\n",
    "    upper = df[~(df>(q3+1.5*IQR))].max()\n",
    "    lower = df[~(df<(q1-1.5*IQR))].min()\n",
    "\n",
    "    df = np.where(df > upper, df.quantile(0.8), np.where(df < lower, df.quantile(0.2),df))\n",
    "\n",
    "    return df"
   ]
  },
  {
   "cell_type": "code",
   "execution_count": null,
   "id": "b19c4041",
   "metadata": {},
   "outputs": [],
   "source": [
    "for i in cont_cols:\n",
    "    data[i] = impute_outliers_IQR(data[i])"
   ]
  },
  {
   "cell_type": "code",
   "execution_count": null,
   "id": "e4c8304e",
   "metadata": {},
   "outputs": [],
   "source": [
    "sns.distplot(data['AMT_ANNUITY'])"
   ]
  },
  {
   "cell_type": "code",
   "execution_count": null,
   "id": "fee204cb",
   "metadata": {},
   "outputs": [],
   "source": [
    "data.info()"
   ]
  },
  {
   "cell_type": "markdown",
   "id": "3367e1dc",
   "metadata": {},
   "source": [
    "# Feature Engineering"
   ]
  },
  {
   "cell_type": "markdown",
   "id": "61e67c7f",
   "metadata": {},
   "source": [
    "There are two indicators which are critical in mortgage approval process.\n",
    "\n",
    "* LTV, loan to value, ratio = Loan / Value of collateral. Which is 'AMT_CREDIT'/ 'AMT_GOODS_PRICE'.\n",
    "* DTI, Debt to income, ratio = amount of all the monthly debt payments / the gross monthly income. Which is 'AMT_ANNUITY' / 'AMT_INCOME_TOTAL'"
   ]
  },
  {
   "cell_type": "code",
   "execution_count": null,
   "id": "f4ed4789",
   "metadata": {},
   "outputs": [],
   "source": [
    "data['LTV'] = data['AMT_CREDIT']/data['AMT_GOODS_PRICE']\n",
    "data['DTI'] = data['AMT_ANNUITY']/data['AMT_INCOME_TOTAL']"
   ]
  },
  {
   "cell_type": "markdown",
   "id": "f1c88b82",
   "metadata": {},
   "source": [
    "# Data are prepared for modeling\n",
    "* The data isn't have NaNs and I can say that RandomFroest model will be a good fit for this data as it 90% of it is boolean or categorical, so no need for any parametric models like Logistic Regression\n",
    "* Also the data isn't have lineary correlated with the target variable.\n",
    "* I didn't make any transformation to numeric variables as I'll use RandomForest (Which is will not got affected by the distribution of the variables)\n",
    "    \n"
   ]
  },
  {
   "cell_type": "code",
   "execution_count": null,
   "id": "32d8f78f",
   "metadata": {},
   "outputs": [],
   "source": [
    "data"
   ]
  },
  {
   "cell_type": "code",
   "execution_count": null,
   "id": "4b08f8a6",
   "metadata": {},
   "outputs": [],
   "source": []
  },
  {
   "cell_type": "code",
   "execution_count": null,
   "id": "e83fa05f",
   "metadata": {},
   "outputs": [],
   "source": [
    "to_keep=[\n",
    "    'SK_ID_CURR',\n",
    "    'TARGET',\n",
    "    'OCCUPATION_TYPE',\n",
    "    'NAME_CONTRACT_TYPE',\n",
    "    'CODE_GENDER',\n",
    "    'AMT_INCOME_TOTAL',\n",
    "    'AMT_CREDIT',\n",
    "    'AMT_ANNUITY',\n",
    "    'AMT_GOODS_PRICE',\n",
    "    'DAYS_BIRTH',\n",
    "    'DAYS_EMPLOYED',\n",
    "    'Credit/Income',\n",
    "    'Annuity/Income',\n",
    "    'LTV',\n",
    "    'DTI']"
   ]
  },
  {
   "cell_type": "code",
   "execution_count": null,
   "id": "66a27602",
   "metadata": {},
   "outputs": [],
   "source": [
    "data = data[to_keep]"
   ]
  },
  {
   "cell_type": "code",
   "execution_count": null,
   "id": "912fb4cb",
   "metadata": {},
   "outputs": [],
   "source": [
    "data"
   ]
  },
  {
   "cell_type": "markdown",
   "id": "8b56dfb8",
   "metadata": {},
   "source": [
    "# Export du dataframe"
   ]
  },
  {
   "cell_type": "code",
   "execution_count": null,
   "id": "01db05db",
   "metadata": {},
   "outputs": [],
   "source": [
    "# Export du dataframe\n",
    "\n",
    "data.to_csv(\"./data.csv\", index=False)\n",
    "\n"
   ]
  },
  {
   "cell_type": "code",
   "execution_count": null,
   "id": "02a82e5c",
   "metadata": {},
   "outputs": [],
   "source": []
  }
 ],
 "metadata": {
  "kernelspec": {
   "display_name": "Python 3 (ipykernel)",
   "language": "python",
   "name": "python3"
  },
  "language_info": {
   "codemirror_mode": {
    "name": "ipython",
    "version": 3
   },
   "file_extension": ".py",
   "mimetype": "text/x-python",
   "name": "python",
   "nbconvert_exporter": "python",
   "pygments_lexer": "ipython3",
   "version": "3.10.9"
  }
 },
 "nbformat": 4,
 "nbformat_minor": 5
}
